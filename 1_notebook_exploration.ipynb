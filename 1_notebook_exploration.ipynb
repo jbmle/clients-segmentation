{
 "cells": [
  {
   "cell_type": "markdown",
   "metadata": {},
   "source": [
    "## Mission\n",
    "\n",
    "La mission est d’aider les équipes de l'entreprise brésilienne Olist à comprendre ses différents types d'utilisateurs. L'idée est d'utiliser des méthodes non supervisées pour regrouper des clients de profils similaires.\n",
    "Il faut donc fournir à l’équipe Marketing d'Olist une description actionable de segmentation et la logique sous-jacente pour une utilisation optimale, ainsi qu’une proposition de contrat de maintenance basée sur une analyse de la stabilité des segments au cours du temps.\n",
    "\n",
    "#### [Importation des différents datasets](#importation-donnees)\n",
    " - [Customers](#customers)\n",
    " - [Geolocation](#geolocation)\n",
    " - [Order items](#order-items)\n",
    " - [Order payments](#order-payments)\n",
    " - [Order reviews](#order-reviews)\n",
    " - [Orders](#orders)\n",
    " - [Products](#products)\n",
    " - [Sellers](#sellers)\n",
    " - [Product category name translation](#product-category-name-translation)\n",
    " - [Résumé des datasets](#resume-datasets)\n",
    "\n",
    "\n",
    "#### [Création d'un dataset étendu à partir des commandes](#création-dun-dataset-étendu-à-partir-des-commandes)\n",
    " - [Jointure entre order_items et orders](#jointure-entre-order_items-et-orders)\n",
    " - [Filtre des commandes non livrées](#filtre-des-commandes-non-livrées)\n",
    " - [Répartition des commandes sur la durée du dataset)](#répartition-des-commandes-sur-la-durée-du-dataset)\n",
    " - [Nombre de commandes par mois, jour de la semaine, heure](#nombre-de-commandes-par-mois-jour-heure)\n",
    " - [Boxplot des chiffres d'affaires en fonction du mois](#boxplot)\n",
    " - [Création des colonnes duration_delivery et difference_real_estimated_delivery](#creation-duration)\n",
    "\n",
    " #### [Satisfaction: ajout de order_reviews](#satisfaction-ajout-de-order_reviews)\n",
    " - [Création de number_reviews: nombre de commentaires par commande](#creation-number-reviews)\n",
    " - [Répartition du score attribué aux commandes](#répartition-des-scores-attribués-aux-commandes)\n",
    " - [Scatter plots: scores de satisfaction par rapport au temps de livraison réel, et à la différence réel - estimé](#scatter-plots-scores-de-satisfaction-par-rapport-au-temps-de-livraison-réel-et-à-la-différence-réel---estimé)\n",
    "\n",
    "#### [Ajout des modalités de paiement](#ajout-des-modalités-de-paiement)\n",
    " - [Répartition des moyens de paiement par commande](#répartitions-des-moyens-de-paiement-par-commande)\n",
    "\n",
    "#### [Ajout des produits](#ajout-des-produits)\n",
    " - [Jointure avec la traduction en anglais des types de produit](#jointure-avec-la-traduction-en-anglais-des-types-de-produits)\n",
    " - [Distribution des catégories de produits](#distribution-des-catégories-de-produits)\n",
    " - [Jointure avec le dataset products](#jointure-avec-le-dataset-products)\n",
    " - [Feature engineering: simplification des types de produits](#feature-engineering-simplification-des-types-de-produits)\n",
    " - [Répartition des catégories de produits](#répartition-des-catégories-de-produits)\n",
    "\n",
    "#### [Ajout des localisations](#ajout-des-localisations)\n",
    " - [Jointure avec le dataset customers](#jointure-avec-le-dataset-customers)\n",
    " - [Jointure avec le dataset sellers](#jointure-avec-le-dataset-sellers)\n",
    " - [Distance Haversine entre le vendeur et l'acheteur](#distance-haversine-entre-le-vendeur-et-lacheteur)\n",
    "\n",
    "\n",
    "#### [Récence, Fréquence, Montant](#récence-fréquence-montant)\n",
    "\n"
   ]
  }
 ],
 "metadata": {
  "language_info": {
   "name": "python"
  }
 },
 "nbformat": 4,
 "nbformat_minor": 2
}
